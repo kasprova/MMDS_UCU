{
 "cells": [
  {
   "cell_type": "markdown",
   "metadata": {},
   "source": [
    "## Mining Massive Datasets\n",
    "### Homework 1\n",
    "### Anastasiia Kasprova"
   ]
  },
  {
   "cell_type": "code",
   "execution_count": 3,
   "metadata": {
    "collapsed": true
   },
   "outputs": [],
   "source": [
    "import findspark\n",
    "findspark.init('/home/anastasiia/spark-2.1.0-bin-hadoop2.7')\n",
    "\n",
    "from pyspark.sql import SparkSession\n",
    "spark = SparkSession.builder.appName('HW1').getOrCreate()"
   ]
  },
  {
   "cell_type": "code",
   "execution_count": 4,
   "metadata": {
    "collapsed": true
   },
   "outputs": [],
   "source": [
    "df1 = spark.read.csv('spark_data/amsterdam_listings.csv', mode='DROPMALFORMED', header=True)\n",
    "df2 = spark.read.csv('spark_data/amsterdam_reviews.csv', mode='DROPMALFORMED',header=True)"
   ]
  },
  {
   "cell_type": "code",
   "execution_count": 11,
   "metadata": {},
   "outputs": [
    {
     "name": "stdout",
     "output_type": "stream",
     "text": [
      "root\n",
      " |-- id: string (nullable = true)\n",
      " |-- name: string (nullable = true)\n",
      " |-- host_id: string (nullable = true)\n",
      " |-- host_name: string (nullable = true)\n",
      " |-- neighbourhood_group: string (nullable = true)\n",
      " |-- neighbourhood: string (nullable = true)\n",
      " |-- latitude: string (nullable = true)\n",
      " |-- longitude: string (nullable = true)\n",
      " |-- room_type: string (nullable = true)\n",
      " |-- price: string (nullable = true)\n",
      " |-- minimum_nights: string (nullable = true)\n",
      " |-- number_of_reviews: string (nullable = true)\n",
      " |-- last_review: string (nullable = true)\n",
      " |-- reviews_per_month: string (nullable = true)\n",
      " |-- calculated_host_listings_count: string (nullable = true)\n",
      " |-- availability_365: string (nullable = true)\n",
      "\n",
      "root\n",
      " |-- listing_id: string (nullable = true)\n",
      " |-- date: string (nullable = true)\n",
      "\n"
     ]
    }
   ],
   "source": [
    "#checking what columns we have\n",
    "df1.printSchema()\n",
    "df2.printSchema()"
   ]
  },
  {
   "cell_type": "code",
   "execution_count": 9,
   "metadata": {
    "collapsed": true
   },
   "outputs": [],
   "source": [
    "# creating views to be able to sql dfs\n",
    "df1.createOrReplaceTempView('listings')\n",
    "df2.createOrReplaceTempView('reviews')"
   ]
  },
  {
   "cell_type": "code",
   "execution_count": 12,
   "metadata": {},
   "outputs": [
    {
     "name": "stdout",
     "output_type": "stream",
     "text": [
      "+--------+--------------------+-------+---------+-------------------+--------------------+----------------+-----------------+---------------+-----+--------------+-----------------+-----------+-----------------+------------------------------+----------------+\n",
      "|      id|                name|host_id|host_name|neighbourhood_group|       neighbourhood|        latitude|        longitude|      room_type|price|minimum_nights|number_of_reviews|last_review|reviews_per_month|calculated_host_listings_count|availability_365|\n",
      "+--------+--------------------+-------+---------+-------------------+--------------------+----------------+-----------------+---------------+-----+--------------+-----------------+-----------+-----------------+------------------------------+----------------+\n",
      "|14831696|Luxurious & space...|5476119|   Arthur|               null|De Baarsjes - Oud...|52.3611730497892|4.866754581739126|Entire home/apt|  145|             3|                4| 2016-12-31|             0.68|                             1|             241|\n",
      "+--------+--------------------+-------+---------+-------------------+--------------------+----------------+-----------------+---------------+-----+--------------+-----------------+-----------+-----------------+------------------------------+----------------+\n",
      "\n",
      "+----------+----------+\n",
      "|listing_id|      date|\n",
      "+----------+----------+\n",
      "|   1426799|2013-08-18|\n",
      "+----------+----------+\n",
      "\n"
     ]
    }
   ],
   "source": [
    "# cheking how the data looks like\n",
    "spark.sql(\"SELECT * FROM listings limit 1\").show()\n",
    "spark.sql(\"SELECT * FROM reviews limit 1\").show()"
   ]
  },
  {
   "cell_type": "code",
   "execution_count": 15,
   "metadata": {},
   "outputs": [
    {
     "name": "stdout",
     "output_type": "stream",
     "text": [
      "+--------+--------------------+-------+---------+-------------------+--------------------+----------------+-----------------+---------------+-----+--------------+-----------------+-----------+-----------------+------------------------------+----------------+----------+----------+\n",
      "|      id|                name|host_id|host_name|neighbourhood_group|       neighbourhood|        latitude|        longitude|      room_type|price|minimum_nights|number_of_reviews|last_review|reviews_per_month|calculated_host_listings_count|availability_365|listing_id|      date|\n",
      "+--------+--------------------+-------+---------+-------------------+--------------------+----------------+-----------------+---------------+-----+--------------+-----------------+-----------+-----------------+------------------------------+----------------+----------+----------+\n",
      "|14831696|Luxurious & space...|5476119|   Arthur|               null|De Baarsjes - Oud...|52.3611730497892|4.866754581739126|Entire home/apt|  145|             3|                4| 2016-12-31|             0.68|                             1|             241|  14831696|2016-12-31|\n",
      "+--------+--------------------+-------+---------+-------------------+--------------------+----------------+-----------------+---------------+-----+--------------+-----------------+-----------+-----------------+------------------------------+----------------+----------+----------+\n",
      "\n"
     ]
    }
   ],
   "source": [
    "#joining 2 dfs: listings and reviews on id\n",
    "df = spark.sql(\"SELECT * FROM listings l JOIN reviews r on l.id = r.listing_id\")\n",
    "\n",
    "#create a view for the new df\n",
    "df.createOrReplaceTempView('combined')\n",
    "\n",
    "#checking what did we get\n",
    "spark.sql(\"SELECT * FROM combined limit 1\").show()"
   ]
  },
  {
   "cell_type": "code",
   "execution_count": 16,
   "metadata": {},
   "outputs": [
    {
     "name": "stdout",
     "output_type": "stream",
     "text": [
      "+---------------+\n",
      "|      room_type|\n",
      "+---------------+\n",
      "|    Shared room|\n",
      "|Entire home/apt|\n",
      "|   Private room|\n",
      "+---------------+\n",
      "\n"
     ]
    }
   ],
   "source": [
    "#cheking what is 'rooms,flats,everything together:)'\n",
    "spark.sql(\"SELECT distinct room_type FROM combined\").show()"
   ]
  },
  {
   "cell_type": "code",
   "execution_count": 17,
   "metadata": {},
   "outputs": [
    {
     "name": "stdout",
     "output_type": "stream",
     "text": [
      "+---------------+---------+\n",
      "|      room_type|avg_price|\n",
      "+---------------+---------+\n",
      "|    Shared room|      116|\n",
      "|Entire home/apt|      147|\n",
      "|   Private room|       89|\n",
      "+---------------+---------+\n",
      "\n"
     ]
    }
   ],
   "source": [
    "#computing an average price of each type of properties\n",
    "spark.sql(\"SELECT room_type, cast(round(avg(price),0) as int) as avg_price FROM combined GROUP BY 1\").show()"
   ]
  },
  {
   "cell_type": "code",
   "execution_count": 22,
   "metadata": {},
   "outputs": [
    {
     "name": "stdout",
     "output_type": "stream",
     "text": [
      "+--------+--------------------+--------+---------+-------------------+-------------+------------------+-----------------+-----------+-----+--------------+-----------------+-----------+-----------------+------------------------------+----------------+----------+----------+---------------+------------+\n",
      "|      id|                name| host_id|host_name|neighbourhood_group|neighbourhood|          latitude|        longitude|  room_type|price|minimum_nights|number_of_reviews|last_review|reviews_per_month|calculated_host_listings_count|availability_365|listing_id|      date|price_deviation|price_bucket|\n",
      "+--------+--------------------+--------+---------+-------------------+-------------+------------------+-----------------+-----------+-----+--------------+-----------------+-----------+-----------------+------------------------------+----------------+----------+----------+---------------+------------+\n",
      "|15537309|10 minutes from c...|99956555|  Touseef|               null|   Noord-Oost| 52.39316097594919|4.955759152038974|Shared room|   30|             1|                5| 2016-11-18|             0.94|                             1|             331|  15537309|2016-11-18|           0.26|           L|\n",
      "|15537309|10 minutes from c...|99956555|  Touseef|               null|   Noord-Oost| 52.39316097594919|4.955759152038974|Shared room|   30|             1|                5| 2016-11-18|             0.94|                             1|             331|  15537309|2016-11-07|           0.26|           L|\n",
      "|15537309|10 minutes from c...|99956555|  Touseef|               null|   Noord-Oost| 52.39316097594919|4.955759152038974|Shared room|   30|             1|                5| 2016-11-18|             0.94|                             1|             331|  15537309|2016-10-27|           0.26|           L|\n",
      "|15537309|10 minutes from c...|99956555|  Touseef|               null|   Noord-Oost| 52.39316097594919|4.955759152038974|Shared room|   30|             1|                5| 2016-11-18|             0.94|                             1|             331|  15537309|2016-10-27|           0.26|           L|\n",
      "|15537309|10 minutes from c...|99956555|  Touseef|               null|   Noord-Oost| 52.39316097594919|4.955759152038974|Shared room|   30|             1|                5| 2016-11-18|             0.94|                             1|             331|  15537309|2016-10-25|           0.26|           L|\n",
      "|15076339|Friendly and arti...|93480630|  Yannick|               null|   Noord-West| 52.40860149631582|4.922094493926608|Shared room|   23|             1|                1| 2016-09-17|             0.15|                             1|               0|  15076339|2016-09-17|            0.2|           L|\n",
      "|12062398|       Couch to rent|64618288|    Andra|               null|   Noord-West|52.423555494067436|4.885394452523372|Shared room|   50|             3|                2| 2016-05-31|             0.18|                             3|             123|  12062398|2016-05-31|           0.43|           L|\n",
      "|12062398|       Couch to rent|64618288|    Andra|               null|   Noord-West|52.423555494067436|4.885394452523372|Shared room|   50|             3|                2| 2016-05-31|             0.18|                             3|             123|  12062398|2016-05-08|           0.43|           L|\n",
      "| 9703355|sleeping schip Ve...|47264416|  Bernard|               null|    Oud-Noord|52.390899043442005|4.939981535970854|Shared room|   40|             1|               28| 2017-03-21|             1.74|                             4|               8|   9703355|2017-03-21|           0.35|           L|\n",
      "| 9703355|sleeping schip Ve...|47264416|  Bernard|               null|    Oud-Noord|52.390899043442005|4.939981535970854|Shared room|   40|             1|               28| 2017-03-21|             1.74|                             4|               8|   9703355|2017-02-25|           0.35|           L|\n",
      "| 9703355|sleeping schip Ve...|47264416|  Bernard|               null|    Oud-Noord|52.390899043442005|4.939981535970854|Shared room|   40|             1|               28| 2017-03-21|             1.74|                             4|               8|   9703355|2017-01-20|           0.35|           L|\n",
      "| 9703355|sleeping schip Ve...|47264416|  Bernard|               null|    Oud-Noord|52.390899043442005|4.939981535970854|Shared room|   40|             1|               28| 2017-03-21|             1.74|                             4|               8|   9703355|2016-12-30|           0.35|           L|\n",
      "| 9703355|sleeping schip Ve...|47264416|  Bernard|               null|    Oud-Noord|52.390899043442005|4.939981535970854|Shared room|   40|             1|               28| 2017-03-21|             1.74|                             4|               8|   9703355|2016-12-28|           0.35|           L|\n",
      "| 9703355|sleeping schip Ve...|47264416|  Bernard|               null|    Oud-Noord|52.390899043442005|4.939981535970854|Shared room|   40|             1|               28| 2017-03-21|             1.74|                             4|               8|   9703355|2016-12-18|           0.35|           L|\n",
      "| 9703355|sleeping schip Ve...|47264416|  Bernard|               null|    Oud-Noord|52.390899043442005|4.939981535970854|Shared room|   40|             1|               28| 2017-03-21|             1.74|                             4|               8|   9703355|2016-12-15|           0.35|           L|\n",
      "| 9703355|sleeping schip Ve...|47264416|  Bernard|               null|    Oud-Noord|52.390899043442005|4.939981535970854|Shared room|   40|             1|               28| 2017-03-21|             1.74|                             4|               8|   9703355|2016-12-12|           0.35|           L|\n",
      "| 9703355|sleeping schip Ve...|47264416|  Bernard|               null|    Oud-Noord|52.390899043442005|4.939981535970854|Shared room|   40|             1|               28| 2017-03-21|             1.74|                             4|               8|   9703355|2016-12-03|           0.35|           L|\n",
      "| 9703355|sleeping schip Ve...|47264416|  Bernard|               null|    Oud-Noord|52.390899043442005|4.939981535970854|Shared room|   40|             1|               28| 2017-03-21|             1.74|                             4|               8|   9703355|2016-11-27|           0.35|           L|\n",
      "| 9703355|sleeping schip Ve...|47264416|  Bernard|               null|    Oud-Noord|52.390899043442005|4.939981535970854|Shared room|   40|             1|               28| 2017-03-21|             1.74|                             4|               8|   9703355|2016-04-15|           0.35|           L|\n",
      "| 9703355|sleeping schip Ve...|47264416|  Bernard|               null|    Oud-Noord|52.390899043442005|4.939981535970854|Shared room|   40|             1|               28| 2017-03-21|             1.74|                             4|               8|   9703355|2016-03-12|           0.35|           L|\n",
      "+--------+--------------------+--------+---------+-------------------+-------------+------------------+-----------------+-----------+-----+--------------+-----------------+-----------+-----------------+------------------------------+----------------+----------+----------+---------------+------------+\n",
      "only showing top 20 rows\n",
      "\n"
     ]
    }
   ],
   "source": [
    "# adding new columns: price_deviation and price_bucket (grouping by room_type)\n",
    "spark.sql(\"SELECT a.*, round(a.price/b.avg_price,2) as price_deviation, case when a.price>round(b.avg_price) then 'H' else 'L' end as price_bucket FROM combined a JOIN (SELECT room_type, avg(price) as avg_price FROM combined GROUP BY 1) b ON a.room_type=b.room_type\").show()"
   ]
  },
  {
   "cell_type": "code",
   "execution_count": 56,
   "metadata": {
    "collapsed": true
   },
   "outputs": [],
   "source": [
    "# exporting results into csv file \n",
    "df3 = spark.sql(\"SELECT a.*, round(a.price/b.avg_price,2) as price_deviation, case when a.price>round(b.avg_price) then 'H' else 'L' end as price_bucket FROM combined a JOIN (SELECT room_type, avg(price) as avg_price FROM combined GROUP BY 1) b ON a.room_type=b.room_type\")\n",
    "df3.repartition(1).write.format(\"com.databricks.spark.csv\").option(\"header\", \"true\").save('spark_data/amsterdam_by_room_type.csv')"
   ]
  },
  {
   "cell_type": "code",
   "execution_count": 27,
   "metadata": {},
   "outputs": [
    {
     "name": "stdout",
     "output_type": "stream",
     "text": [
      "+--------------------+\n",
      "|       neighbourhood|\n",
      "+--------------------+\n",
      "|           Oud-Noord|\n",
      "|De Baarsjes - Oud...|\n",
      "|       Bos en Lommer|\n",
      "|              Osdorp|\n",
      "|        Centrum-Oost|\n",
      "|De Pijp - Riviere...|\n",
      "|          Westerpark|\n",
      "|            Oud-Oost|\n",
      "|Geuzenveld - Slot...|\n",
      "|Oostelijk Havenge...|\n",
      "|                Zuid|\n",
      "|        Centrum-West|\n",
      "|          Noord-Oost|\n",
      "|          Noord-West|\n",
      "|IJburg - Zeeburge...|\n",
      "|De Aker - Nieuw S...|\n",
      "|     Watergraafsmeer|\n",
      "|        Bijlmer-Oost|\n",
      "|     Bijlmer-Centrum|\n",
      "|Gaasperdam - Drie...|\n",
      "+--------------------+\n",
      "only showing top 20 rows\n",
      "\n",
      "+-----------------------------+\n",
      "|count(DISTINCT neighbourhood)|\n",
      "+-----------------------------+\n",
      "|                           22|\n",
      "+-----------------------------+\n",
      "\n"
     ]
    }
   ],
   "source": [
    "#cheking what kind neighbourhood we have in the data\n",
    "spark.sql(\"SELECT distinct neighbourhood FROM combined\").show()\n",
    "spark.sql(\"SELECT count(distinct neighbourhood) FROM combined\").show()"
   ]
  },
  {
   "cell_type": "code",
   "execution_count": 33,
   "metadata": {},
   "outputs": [
    {
     "name": "stdout",
     "output_type": "stream",
     "text": [
      "+--------------------+---------------+---------+\n",
      "|       neighbourhood|      room_type|avg_price|\n",
      "+--------------------+---------------+---------+\n",
      "|     Bijlmer-Centrum|Entire home/apt|    77.95|\n",
      "|     Bijlmer-Centrum|   Private room|    51.51|\n",
      "|        Bijlmer-Oost|Entire home/apt|    98.64|\n",
      "|        Bijlmer-Oost|   Private room|    51.86|\n",
      "|       Bos en Lommer|Entire home/apt|    106.3|\n",
      "|       Bos en Lommer|   Private room|    67.46|\n",
      "|       Bos en Lommer|    Shared room|    45.67|\n",
      "|Buitenveldert - Z...|Entire home/apt|   117.44|\n",
      "|Buitenveldert - Z...|   Private room|    69.07|\n",
      "|Buitenveldert - Z...|    Shared room|     40.0|\n",
      "|        Centrum-Oost|Entire home/apt|   171.04|\n",
      "|        Centrum-Oost|   Private room|   109.29|\n",
      "|        Centrum-Oost|    Shared room|    180.2|\n",
      "|        Centrum-West|Entire home/apt|   179.25|\n",
      "|        Centrum-West|   Private room|   108.99|\n",
      "|        Centrum-West|    Shared room|    160.4|\n",
      "|De Aker - Nieuw S...|Entire home/apt|   106.76|\n",
      "|De Aker - Nieuw S...|   Private room|    70.35|\n",
      "|De Aker - Nieuw S...|    Shared room|     25.0|\n",
      "|De Baarsjes - Oud...|Entire home/apt|   136.38|\n",
      "+--------------------+---------------+---------+\n",
      "only showing top 20 rows\n",
      "\n"
     ]
    }
   ],
   "source": [
    "# calculating avg_price based on room type and neighbourhood\n",
    "spark.sql(\"SELECT neighbourhood, room_type, round(avg(price),2) as avg_price FROM combined GROUP BY neighbourhood, room_type ORDER BY neighbourhood, room_type\").show()"
   ]
  },
  {
   "cell_type": "code",
   "execution_count": 58,
   "metadata": {
    "collapsed": true
   },
   "outputs": [],
   "source": [
    "# exporting results into csv file \n",
    "df4 = spark.sql(\"SELECT neighbourhood, room_type, round(avg(price),2) as avg_price FROM combined GROUP BY neighbourhood, room_type ORDER BY neighbourhood, room_type\")\n",
    "df4.repartition(1).write.format(\"com.databricks.spark.csv\").option(\"header\", \"true\").save('spark_data/amsterdam_avgprice_by_neighbourhood.csv')"
   ]
  }
 ],
 "metadata": {
  "kernelspec": {
   "display_name": "Python 3",
   "language": "python",
   "name": "python3"
  },
  "language_info": {
   "codemirror_mode": {
    "name": "ipython",
    "version": 3
   },
   "file_extension": ".py",
   "mimetype": "text/x-python",
   "name": "python",
   "nbconvert_exporter": "python",
   "pygments_lexer": "ipython3",
   "version": "3.5.2"
  }
 },
 "nbformat": 4,
 "nbformat_minor": 2
}
